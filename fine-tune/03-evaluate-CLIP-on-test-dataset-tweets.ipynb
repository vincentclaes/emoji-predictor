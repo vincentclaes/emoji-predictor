{
 "cells": [
  {
   "cell_type": "markdown",
   "metadata": {
    "pycharm": {
     "name": "#%% md\n"
    }
   },
   "source": [
    "# Evaluate CLIP on Test Dataset\n",
    "\n",
    "- Got inspiration for finteuning here: \n",
    "    - https://github.com/sachinruk/blog/blob/master/_notebooks/2021-03-07-CLIP.ipynb\n",
    "    - https://github.com/huggingface/transformers/blob/main/examples/pytorch/contrastive-image-text/run_clip.py\n",
    "- Dataset: \n",
    "    - https://huggingface.co/datasets/AlekseyDorkin/extended_tweet_emojis/tree/main\n"
   ]
  },
  {
   "cell_type": "code",
   "execution_count": 2,
   "metadata": {
    "pycharm": {
     "name": "#%%\n"
    }
   },
   "outputs": [
    {
     "name": "stdout",
     "output_type": "stream",
     "text": [
      "\u001b[33mWARNING: Running pip as the 'root' user can result in broken permissions and conflicting behaviour with the system package manager. It is recommended to use a virtual environment instead: https://pip.pypa.io/warnings/venv\u001b[0m\u001b[33m\n",
      "\u001b[0m"
     ]
    }
   ],
   "source": [
    "# you might want to restart the kernel after installation is complete.\n",
    "!pip install transformers evaluate pillow datasets pycm ipywidgets jupyter jupyter_client --upgrade --quiet"
   ]
  },
  {
   "cell_type": "markdown",
   "metadata": {
    "pycharm": {
     "name": "#%% md\n"
    }
   },
   "source": [
    "## 1. Getting Dataset"
   ]
  },
  {
   "cell_type": "code",
   "execution_count": 4,
   "metadata": {
    "pycharm": {
     "name": "#%%\n"
    }
   },
   "outputs": [],
   "source": [
    "from datasets import load_dataset"
   ]
  },
  {
   "cell_type": "code",
   "execution_count": 6,
   "metadata": {
    "pycharm": {
     "name": "#%%\n"
    }
   },
   "outputs": [
    {
     "name": "stderr",
     "output_type": "stream",
     "text": [
      "Using custom data configuration AlekseyDorkin--extended_tweet_emojis-4eb99ce06d465da0\n",
      "Reusing dataset parquet (/root/.cache/huggingface/datasets/AlekseyDorkin___parquet/AlekseyDorkin--extended_tweet_emojis-4eb99ce06d465da0/0.0.0/7328ef7ee03eaf3f86ae40594d46a1cec86161704e02dd19f232d81eee72ade8)\n"
     ]
    },
    {
     "data": {
      "application/vnd.jupyter.widget-view+json": {
       "model_id": "ae40393f92a440be948b71f0e0cc960d",
       "version_major": 2,
       "version_minor": 0
      },
      "text/plain": [
       "  0%|          | 0/2 [00:00<?, ?it/s]"
      ]
     },
     "metadata": {},
     "output_type": "display_data"
    }
   ],
   "source": [
    "dataset = load_dataset(\"AlekseyDorkin/extended_tweet_emojis\")"
   ]
  },
  {
   "cell_type": "code",
   "execution_count": 38,
   "metadata": {
    "pycharm": {
     "name": "#%%\n"
    }
   },
   "outputs": [
    {
     "name": "stderr",
     "output_type": "stream",
     "text": [
      "WARNING:datasets.arrow_dataset:Loading cached split indices for dataset at /root/.cache/huggingface/datasets/AlekseyDorkin___parquet/AlekseyDorkin--extended_tweet_emojis-4eb99ce06d465da0/0.0.0/7328ef7ee03eaf3f86ae40594d46a1cec86161704e02dd19f232d81eee72ade8/cache-40036b762878c645.arrow and /root/.cache/huggingface/datasets/AlekseyDorkin___parquet/AlekseyDorkin--extended_tweet_emojis-4eb99ce06d465da0/0.0.0/7328ef7ee03eaf3f86ae40594d46a1cec86161704e02dd19f232d81eee72ade8/cache-907f565d049ab5a6.arrow\n"
     ]
    }
   ],
   "source": [
    "SEED = 42 # use the same seed as in step 01\n",
    "TEST_SIZE = 0.1 # use the same test size as in step 01\n",
    "train_dataset_full = dataset[\"train\"]\n",
    "train_test_dataset = train_dataset_full.train_test_split(test_size=TEST_SIZE, seed=SEED)\n",
    "test_dataset = train_test_dataset[\"test\"]"
   ]
  },
  {
   "cell_type": "markdown",
   "metadata": {},
   "source": [
    "## 1.1 Imbalanced Dataset"
   ]
  },
  {
   "cell_type": "code",
   "execution_count": 40,
   "metadata": {},
   "outputs": [
    {
     "data": {
      "image/png": "[encoded data removed]",
      "text/plain": [
       "<Figure size 432x288 with 1 Axes>"
      ]
     },
     "metadata": {
      "needs_background": "light"
     },
     "output_type": "display_data"
    }
   ],
   "source": [
    "import matplotlib.pyplot as plt\n",
    "plt.hist(train_dataset_full[\"label\"])  # density=False would make counts\n",
    "plt.ylabel('Probability')\n",
    "plt.xlabel('emojis full datatset');"
   ]
  },
  {
   "cell_type": "code",
   "execution_count": 39,
   "metadata": {},
   "outputs": [
    {
     "data": {
      "image/png": "[encoded data removed]",
      "text/plain": [
       "<Figure size 432x288 with 1 Axes>"
      ]
     },
     "metadata": {
      "needs_background": "light"
     },
     "output_type": "display_data"
    }
   ],
   "source": [
    "plt.hist(test_dataset[\"label\"])  # density=False would make counts\n",
    "plt.xlabel('emojis test datatset');"
   ]
  },
  {
   "cell_type": "code",
   "execution_count": 11,
   "metadata": {},
   "outputs": [],
   "source": [
    "from PIL import Image\n",
    "emojis_as_images = [Image.open(f\"emojis/{i}.png\") for i in range(32)]"
   ]
  },
  {
   "cell_type": "markdown",
   "metadata": {
    "pycharm": {
     "name": "#%% md\n"
    }
   },
   "source": [
    "## 2. Evaluate Test Dataset"
   ]
  },
  {
   "cell_type": "code",
   "execution_count": 12,
   "metadata": {
    "pycharm": {
     "name": "#%%\n"
    }
   },
   "outputs": [],
   "source": [
    "from transformers import CLIPProcessor, CLIPModel\n",
    "import torch"
   ]
  },
  {
   "cell_type": "code",
   "execution_count": 13,
   "metadata": {
    "pycharm": {
     "name": "#%%\n"
    }
   },
   "outputs": [
    {
     "name": "stderr",
     "output_type": "stream",
     "text": [
      "/opt/conda/lib/python3.8/site-packages/PIL/Image.py:959: UserWarning: Palette images with Transparency expressed in bytes should be converted to RGBA images\n",
      "  warnings.warn(\n"
     ]
    },
    {
     "name": "stdout",
     "output_type": "stream",
     "text": [
      "[2022-07-23 13:25:01.809: W smdistributed/modelparallel/torch/nn/predefined_hooks.py:47] Found unsupported HuggingFace version 4.20.1 for automated tensor parallelism. HuggingFace modules will not be automatically distributed. You can use smp.tp_register_with_module API to register desired modules for tensor parallelism, or directly instantiate an smp.nn.DistributedModule. Supported HuggingFace transformers versions for automated tensor parallelism: ['4.16.2']\n",
      "[2022-07-23 13:25:01.862 pytorch-1-10-gpu-py-ml-g4dn-xlarge-5086b554a12da40ba14f4b244605:23 INFO utils.py:27] RULE_JOB_STOP_SIGNAL_FILENAME: None\n",
      "[2022-07-23 13:25:01.997 pytorch-1-10-gpu-py-ml-g4dn-xlarge-5086b554a12da40ba14f4b244605:23 INFO profiler_config_parser.py:111] Unable to find config at /opt/ml/input/config/profilerconfig.json. Profiler is disabled.\n"
     ]
    },
    {
     "name": "stderr",
     "output_type": "stream",
     "text": [
      "/opt/conda/lib/python3.8/site-packages/smdebug-1.0.13b20220304-py3.8.egg/smdebug/profiler/system_metrics_reader.py:63: SyntaxWarning: \"is not\" with a literal. Did you mean \"!=\"?\n",
      "/opt/conda/lib/python3.8/site-packages/smdebug-1.0.13b20220304-py3.8.egg/smdebug/profiler/system_metrics_reader.py:63: SyntaxWarning: \"is not\" with a literal. Did you mean \"!=\"?\n"
     ]
    },
    {
     "name": "stdout",
     "output_type": "stream",
     "text": [
      "total predictions so far: 238\n"
     ]
    },
    {
     "name": "stderr",
     "output_type": "stream",
     "text": [
      "/opt/conda/lib/python3.8/site-packages/PIL/Image.py:959: UserWarning: Palette images with Transparency expressed in bytes should be converted to RGBA images\n",
      "  warnings.warn(\n"
     ]
    },
    {
     "name": "stdout",
     "output_type": "stream",
     "text": [
      "total predictions so far: 476\n",
      "total predictions so far: 714\n",
      "total predictions so far: 952\n",
      "total predictions so far: 1189\n",
      "total predictions so far: 1426\n",
      "total predictions so far: 1663\n",
      "total predictions so far: 1900\n",
      "total predictions so far: 2137\n",
      "total predictions so far: 2374\n",
      "total predictions so far: 2611\n",
      "total predictions so far: 2848\n",
      "total predictions so far: 3085\n",
      "total predictions so far: 3322\n",
      "total predictions so far: 3559\n",
      "total predictions so far: 3796\n",
      "total predictions so far: 4033\n",
      "total predictions so far: 4270\n",
      "total predictions so far: 4507\n",
      "total predictions so far: 4744\n"
     ]
    }
   ],
   "source": [
    "MODEL = \"checkpoints/checkpoint-2000\"\n",
    "PROCESSOR = \"openai/clip-vit-base-patch32\"\n",
    "predictions = []\n",
    "references = []\n",
    "SHARDS = 20\n",
    "# not fully understanding this, but with torch.no_grad\n",
    "# our GPU does not run out of memory.\n",
    "with torch.no_grad():\n",
    "    for i in range(SHARDS):\n",
    "        chunk = test_dataset.shard(num_shards=SHARDS, index=i)\n",
    "        chunk_text = chunk[\"text\"]\n",
    "        chunk_label = chunk[\"label\"]\n",
    "        model = CLIPModel.from_pretrained(MODEL).to(\"cuda\")\n",
    "        processor = CLIPProcessor.from_pretrained(PROCESSOR)\n",
    "        inputs = processor(text=chunk_text, images=emojis_as_images, return_tensors=\"pt\", padding=True, truncation=True)\n",
    "        outputs = model(**inputs.to(\"cuda\"))\n",
    "        # we want the probability for each emoji per sentence.\n",
    "        logits_per_text = outputs.logits_per_text\n",
    "        # we take the softmax to get the label probabilities\n",
    "        probs = logits_per_text.softmax(dim=1)\n",
    "        predictions_for_chunk = [torch.argmax(prob).item() for prob in probs]\n",
    "        predictions.extend(predictions_for_chunk)\n",
    "        references.extend(chunk_label)\n",
    "        print(f\"total predictions so far: {len(predictions)}\")\n",
    "        torch.cuda.empty_cache()"
   ]
  },
  {
   "cell_type": "markdown",
   "metadata": {
    "pycharm": {
     "name": "#%% md\n"
    }
   },
   "source": [
    "## 4. Evaluate Predictions"
   ]
  },
  {
   "cell_type": "code",
   "execution_count": 19,
   "metadata": {
    "pycharm": {
     "name": "#%%\n"
    }
   },
   "outputs": [
    {
     "name": "stdout",
     "output_type": "stream",
     "text": [
      "We calculate the precision for prediction the right emoji. \n",
      "The following number show the percentage of correctly predicted (TP) \n",
      "compared to wrongly + correctly predcted (FP + TP). \n",
      "\n",
      "{'precision': 0.8109190556492412}\n"
     ]
    }
   ],
   "source": [
    "import evaluate\n",
    "precision_metric = evaluate.load(\"precision\")\n",
    "# Micro-averaging will put more emphasis on the common classes in the data set. \n",
    "# Rare labels shouldn’t influence the overall precision metric heavily.\n",
    "results = precision_metric.compute(references=references, predictions=predictions, average=\"micro\")\n",
    "print(\"\"\"We calculate the precision for prediction the right emoji. \n",
    "The following number show the percentage of correctly predicted (TP) \n",
    "compared to wrongly + correctly predcted (FP + TP). \\n\"\"\")\n",
    "print(results)"
   ]
  },
  {
   "cell_type": "code",
   "execution_count": 46,
   "metadata": {
    "pycharm": {
     "name": "#%%\n"
    }
   },
   "outputs": [
    {
     "data": {
      "image/png": "[encoded data removed]",
      "text/plain": [
       "<Figure size 1440x1440 with 2 Axes>"
      ]
     },
     "metadata": {
      "needs_background": "light"
     },
     "output_type": "display_data"
    }
   ],
   "source": [
    "import numpy as np\n",
    "import matplotlib.pyplot as plt\n",
    "from sklearn.metrics import confusion_matrix\n",
    "from sklearn.metrics import classification_report\n",
    "\n",
    "# Create confusion matrix\n",
    "confusion_mat = confusion_matrix(test_dataset[\"label\"], predictions, normalize=\"all\")\n",
    "\n",
    "# Visualize confusion matrix\n",
    "plt.figure(figsize = (20,20))\n",
    "plt.imshow(confusion_mat, interpolation='nearest', cmap=plt.cm.Greens)\n",
    "plt.title('Confusion matrix')\n",
    "plt.colorbar()\n",
    "ticks = np.arange(stop=len(emojis_as_images))\n",
    "plt.xticks(ticks, ticks)\n",
    "plt.yticks(ticks, ticks)\n",
    "plt.ylabel('True labels')\n",
    "plt.xlabel('Predicted labels')\n",
    "plt.show()\n"
   ]
  },
  {
   "cell_type": "code",
   "execution_count": 16,
   "metadata": {
    "pycharm": {
     "name": "#%%\n"
    }
   },
   "outputs": [],
   "source": [
    "import pandas as pd\n",
    "df_mapping = pd.read_table(\"mapping.txt\", header=None)"
   ]
  },
  {
   "cell_type": "code",
   "execution_count": 13,
   "metadata": {
    "pycharm": {
     "name": "#%%\n"
    }
   },
   "outputs": [
    {
     "data": {
      "text/plain": [
       "'\\\\U0001f60d'"
      ]
     },
     "execution_count": 13,
     "metadata": {},
     "output_type": "execute_result"
    }
   ],
   "source": [
    "df_mapping[1][1].encode('unicode-escape').decode('ASCII')"
   ]
  },
  {
   "cell_type": "code",
   "execution_count": 14,
   "metadata": {
    "pycharm": {
     "name": "#%%\n"
    }
   },
   "outputs": [
    {
     "data": {
      "text/plain": [
       "32"
      ]
     },
     "execution_count": 14,
     "metadata": {},
     "output_type": "execute_result"
    }
   ],
   "source": [
    "len(df_mapping[1].to_list())"
   ]
  },
  {
   "cell_type": "code",
   "execution_count": null,
   "metadata": {},
   "outputs": [],
   "source": []
  }
 ],
 "metadata": {
  "kernelspec": {
   "display_name": "Python 3 (PyTorch 1.10 Python 3.8 GPU Optimized)",
   "language": "python",
   "name": "python3__SAGEMAKER_INTERNAL__arn:aws:sagemaker:eu-west-1:470317259841:image/pytorch-1.10-gpu-py38"
  },
  "language_info": {
   "codemirror_mode": {
    "name": "ipython",
    "version": 3
   },
   "file_extension": ".py",
   "mimetype": "text/x-python",
   "name": "python",
   "nbconvert_exporter": "python",
   "pygments_lexer": "ipython3",
   "version": "3.8.10"
  }
 },
 "nbformat": 4,
 "nbformat_minor": 5
}
