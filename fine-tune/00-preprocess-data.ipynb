{
 "cells": [
  {
   "cell_type": "markdown",
   "metadata": {
    "pycharm": {
     "name": "#%% md\n"
    }
   },
   "source": [
    "# Preprocess Data\n",
    "- Plot the data.\n",
    "- Make the data balanced by undersampling.\n",
    "- Adding some samples manually\n",
    "- Dump to huggingface datasets.\n",
    "\n",
    "Dataset: https://huggingface.co/datasets/AlekseyDorkin/extended_tweet_emojis/tree/main\n",
    "\n",
    "\n",
    "## 1. Install Dependencies"
   ]
  },
  {
   "cell_type": "code",
   "execution_count": 2,
   "metadata": {
    "collapsed": false,
    "jupyter": {
     "outputs_hidden": false
    },
    "pycharm": {
     "is_executing": true,
     "name": "#%%\n"
    }
   },
   "outputs": [
    {
     "name": "stdout",
     "output_type": "stream",
     "text": [
      "\u001b[33mWARNING: Running pip as the 'root' user can result in broken permissions and conflicting behaviour with the system package manager. It is recommended to use a virtual environment instead: https://pip.pypa.io/warnings/venv\u001b[0m\u001b[33m\n",
      "\u001b[0m"
     ]
    }
   ],
   "source": [
    "# you might want to restart the kernel after installation is complete.\n",
    "!pip install datasets jupyter ipywidgets jupyter_client --upgrade --quiet"
   ]
  },
  {
   "cell_type": "markdown",
   "metadata": {
    "pycharm": {
     "name": "#%% md\n"
    }
   },
   "source": [
    "## 2. Load Data"
   ]
  },
  {
   "cell_type": "code",
   "execution_count": 3,
   "metadata": {
    "collapsed": false,
    "jupyter": {
     "outputs_hidden": false
    },
    "pycharm": {
     "name": "#%%\n"
    }
   },
   "outputs": [
    {
     "name": "stderr",
     "output_type": "stream",
     "text": [
      "Using custom data configuration AlekseyDorkin--extended_tweet_emojis-9d4b19d0fde1050c\n",
      "Reusing dataset parquet (/root/.cache/huggingface/datasets/AlekseyDorkin___parquet/AlekseyDorkin--extended_tweet_emojis-9d4b19d0fde1050c/0.0.0/2a3b91fbd88a2c90d1dbbb32b460cf621d31bd5b05b934492fdef7d8d6f236ec)\n"
     ]
    },
    {
     "data": {
      "application/json": {
       "ascii": false,
       "bar_format": null,
       "colour": null,
       "elapsed": 0.01707768440246582,
       "initial": 0,
       "n": 0,
       "ncols": null,
       "nrows": null,
       "postfix": null,
       "prefix": "",
       "rate": null,
       "total": 2,
       "unit": "it",
       "unit_divisor": 1000,
       "unit_scale": false
      },
      "application/vnd.jupyter.widget-view+json": {
       "model_id": "dcc56b77511f455281c45d237c1006e1",
       "version_major": 2,
       "version_minor": 0
      },
      "text/plain": [
       "  0%|          | 0/2 [00:00<?, ?it/s]"
      ]
     },
     "metadata": {},
     "output_type": "display_data"
    }
   ],
   "source": [
    "from datasets import load_dataset, Dataset\n",
    "\n",
    "dataset = load_dataset(\"AlekseyDorkin/extended_tweet_emojis\")\n",
    "df_train = dataset[\"train\"].to_pandas()\n",
    "df_val = dataset[\"validation\"].to_pandas()"
   ]
  },
  {
   "cell_type": "markdown",
   "metadata": {
    "pycharm": {
     "name": "#%% md\n"
    }
   },
   "source": [
    "## 3. Plot Data"
   ]
  },
  {
   "cell_type": "code",
   "execution_count": 4,
   "metadata": {
    "collapsed": false,
    "jupyter": {
     "outputs_hidden": false
    },
    "pycharm": {
     "name": "#%%\n"
    }
   },
   "outputs": [],
   "source": [
    "import matplotlib.pyplot as plt\n",
    "\n",
    "def plot(df):\n",
    "    df[\"label\"].value_counts().plot(kind = 'bar')"
   ]
  },
  {
   "cell_type": "code",
   "execution_count": 5,
   "metadata": {
    "collapsed": false,
    "jupyter": {
     "outputs_hidden": false
    },
    "pycharm": {
     "name": "#%%\n"
    }
   },
   "outputs": [
    {
     "data": {
      "image/png": "[encoded data removed]",
      "text/plain": [
       "<Figure size 432x288 with 1 Axes>"
      ]
     },
     "metadata": {
      "needs_background": "light"
     },
     "output_type": "display_data"
    }
   ],
   "source": [
    "plot(df_train)\n"
   ]
  },
  {
   "cell_type": "code",
   "execution_count": 6,
   "metadata": {
    "collapsed": false,
    "jupyter": {
     "outputs_hidden": false
    },
    "pycharm": {
     "name": "#%%\n"
    }
   },
   "outputs": [
    {
     "data": {
      "image/png": "[encoded data removed]",
      "text/plain": [
       "<Figure size 432x288 with 1 Axes>"
      ]
     },
     "metadata": {
      "needs_background": "light"
     },
     "output_type": "display_data"
    }
   ],
   "source": [
    "plot(df_val)"
   ]
  },
  {
   "cell_type": "code",
   "execution_count": 7,
   "metadata": {},
   "outputs": [
    {
     "data": {
      "text/plain": [
       "0     9225\n",
       "1     4921\n",
       "2     4788\n",
       "7     2420\n",
       "4     2156\n",
       "5     2143\n",
       "6     2079\n",
       "3     2047\n",
       "10    1982\n",
       "18    1510\n",
       "9     1398\n",
       "17    1397\n",
       "16    1354\n",
       "8     1289\n",
       "12    1247\n",
       "14    1225\n",
       "19    1192\n",
       "13     980\n",
       "11     946\n",
       "15     934\n",
       "25     454\n",
       "23     446\n",
       "24     430\n",
       "21     270\n",
       "20     263\n",
       "22     245\n",
       "31      30\n",
       "28      17\n",
       "26      13\n",
       "29      12\n",
       "30      12\n",
       "27      11\n",
       "Name: label, dtype: int64"
      ]
     },
     "execution_count": 7,
     "metadata": {},
     "output_type": "execute_result"
    }
   ],
   "source": [
    "df_train.label.value_counts()"
   ]
  },
  {
   "cell_type": "markdown",
   "metadata": {
    "pycharm": {
     "name": "#%% md\n"
    }
   },
   "source": [
    "## 4. Undersample"
   ]
  },
  {
   "cell_type": "code",
   "execution_count": 8,
   "metadata": {
    "collapsed": false,
    "jupyter": {
     "outputs_hidden": false
    },
    "pycharm": {
     "name": "#%%\n"
    }
   },
   "outputs": [],
   "source": [
    "def under_sample(df, max_no_rows=None):\n",
    "    if max_no_rows is None:\n",
    "        max_no_rows = min([x[1].shape[0] for x in df.groupby(\"label\")])\n",
    "    print(f\"max no of rows: {max_no_rows}\")\n",
    "    \n",
    "    def _under_sample(x):\n",
    "        # do not undersample if we have less than\n",
    "        if x.shape[0] > max_no_rows:\n",
    "            return x.sample(n=max_no_rows, replace=False, axis=0)\n",
    "        return x\n",
    "    \n",
    "    df = df.groupby(\"label\", as_index=False).apply(lambda x: _under_sample(x)).reset_index(drop=True)\n",
    "    plot(df)\n",
    "    return df\n"
   ]
  },
  {
   "cell_type": "code",
   "execution_count": 9,
   "metadata": {
    "collapsed": false,
    "jupyter": {
     "outputs_hidden": false
    },
    "pycharm": {
     "name": "#%%\n"
    }
   },
   "outputs": [
    {
     "name": "stdout",
     "output_type": "stream",
     "text": [
      "max no of rows: 500\n"
     ]
    },
    {
     "data": {
      "image/png": "[encoded data removed]",
      "text/plain": [
       "<Figure size 432x288 with 1 Axes>"
      ]
     },
     "metadata": {
      "needs_background": "light"
     },
     "output_type": "display_data"
    }
   ],
   "source": [
    "df_train_undersample = under_sample(df_train, max_no_rows=500)"
   ]
  },
  {
   "cell_type": "code",
   "execution_count": 10,
   "metadata": {},
   "outputs": [
    {
     "data": {
      "text/plain": [
       "0     500\n",
       "11    500\n",
       "19    500\n",
       "18    500\n",
       "17    500\n",
       "1     500\n",
       "15    500\n",
       "14    500\n",
       "13    500\n",
       "12    500\n",
       "16    500\n",
       "10    500\n",
       "8     500\n",
       "7     500\n",
       "6     500\n",
       "5     500\n",
       "4     500\n",
       "3     500\n",
       "2     500\n",
       "9     500\n",
       "25    454\n",
       "23    446\n",
       "24    430\n",
       "21    270\n",
       "20    263\n",
       "22    245\n",
       "31     30\n",
       "28     17\n",
       "26     13\n",
       "29     12\n",
       "30     12\n",
       "27     11\n",
       "Name: label, dtype: int64"
      ]
     },
     "execution_count": 10,
     "metadata": {},
     "output_type": "execute_result"
    }
   ],
   "source": [
    "df_train_undersample.label.value_counts()"
   ]
  },
  {
   "cell_type": "code",
   "execution_count": 11,
   "metadata": {},
   "outputs": [
    {
     "data": {
      "text/html": [
       "<div>\n",
       "<style scoped>\n",
       "    .dataframe tbody tr th:only-of-type {\n",
       "        vertical-align: middle;\n",
       "    }\n",
       "\n",
       "    .dataframe tbody tr th {\n",
       "        vertical-align: top;\n",
       "    }\n",
       "\n",
       "    .dataframe thead th {\n",
       "        text-align: right;\n",
       "    }\n",
       "</style>\n",
       "<table border=\"1\" class=\"dataframe\">\n",
       "  <thead>\n",
       "    <tr style=\"text-align: right;\">\n",
       "      <th></th>\n",
       "      <th>text</th>\n",
       "      <th>label</th>\n",
       "    </tr>\n",
       "  </thead>\n",
       "  <tbody>\n",
       "    <tr>\n",
       "      <th>0</th>\n",
       "      <td>1 month countdown starts today! 11/11/16. ️ #w...</td>\n",
       "      <td>0</td>\n",
       "    </tr>\n",
       "    <tr>\n",
       "      <th>1</th>\n",
       "      <td>Hi ️ ️ #wellness #wellnesscoach #healing #medi...</td>\n",
       "      <td>0</td>\n",
       "    </tr>\n",
       "  </tbody>\n",
       "</table>\n",
       "</div>"
      ],
      "text/plain": [
       "                                                text  label\n",
       "0  1 month countdown starts today! 11/11/16. ️ #w...      0\n",
       "1  Hi ️ ️ #wellness #wellnesscoach #healing #medi...      0"
      ]
     },
     "execution_count": 11,
     "metadata": {},
     "output_type": "execute_result"
    }
   ],
   "source": [
    "df_train_undersample.head(2)"
   ]
  },
  {
   "cell_type": "code",
   "execution_count": 12,
   "metadata": {
    "collapsed": false,
    "jupyter": {
     "outputs_hidden": false
    },
    "pycharm": {
     "name": "#%%\n"
    }
   },
   "outputs": [
    {
     "name": "stdout",
     "output_type": "stream",
     "text": [
      "max no of rows: 100\n"
     ]
    },
    {
     "data": {
      "image/png": "[encoded data removed]",
      "text/plain": [
       "<Figure size 432x288 with 1 Axes>"
      ]
     },
     "metadata": {
      "needs_background": "light"
     },
     "output_type": "display_data"
    }
   ],
   "source": [
    "df_val_undersample = under_sample(df_val, max_no_rows=100)"
   ]
  },
  {
   "cell_type": "code",
   "execution_count": 13,
   "metadata": {
    "collapsed": false,
    "jupyter": {
     "outputs_hidden": false
    },
    "pycharm": {
     "name": "#%%\n"
    }
   },
   "outputs": [
    {
     "data": {
      "text/plain": [
       "DatasetDict({\n",
       "    train: Dataset({\n",
       "        features: ['text', 'label'],\n",
       "        num_rows: 10616\n",
       "    })\n",
       "    test: Dataset({\n",
       "        features: ['text', 'label'],\n",
       "        num_rows: 1587\n",
       "    })\n",
       "})"
      ]
     },
     "execution_count": 13,
     "metadata": {},
     "output_type": "execute_result"
    }
   ],
   "source": [
    "SEED = 42 # use the same seed as in step 01\n",
    "TEST_SIZE = 0.13 # use the same as in step 01\n",
    "full_dataset = Dataset.from_pandas(df_train_undersample).train_test_split(test_size=TEST_SIZE, seed=SEED)\n",
    "full_dataset"
   ]
  },
  {
   "cell_type": "code",
   "execution_count": 14,
   "metadata": {
    "collapsed": false,
    "jupyter": {
     "outputs_hidden": false
    },
    "pycharm": {
     "name": "#%%\n"
    }
   },
   "outputs": [],
   "source": [
    "full_dataset[\"validation\"] = Dataset.from_pandas(df_val_undersample)"
   ]
  },
  {
   "cell_type": "code",
   "execution_count": 15,
   "metadata": {
    "collapsed": false,
    "jupyter": {
     "outputs_hidden": false
    },
    "pycharm": {
     "name": "#%%\n"
    }
   },
   "outputs": [
    {
     "data": {
      "text/plain": [
       "DatasetDict({\n",
       "    train: Dataset({\n",
       "        features: ['text', 'label'],\n",
       "        num_rows: 10616\n",
       "    })\n",
       "    test: Dataset({\n",
       "        features: ['text', 'label'],\n",
       "        num_rows: 1587\n",
       "    })\n",
       "    validation: Dataset({\n",
       "        features: ['text', 'label'],\n",
       "        num_rows: 2217\n",
       "    })\n",
       "})"
      ]
     },
     "execution_count": 15,
     "metadata": {},
     "output_type": "execute_result"
    }
   ],
   "source": [
    "full_dataset"
   ]
  },
  {
   "cell_type": "markdown",
   "metadata": {},
   "source": [
    "## 5. Add Samples to Monirity Class\n",
    "Using twitter and https://sentence.yourdictionary.com/flushed to get more examples"
   ]
  },
  {
   "cell_type": "code",
   "execution_count": 2,
   "metadata": {},
   "outputs": [
    {
     "data": {
      "text/plain": [
       "[{'label': [26, 26, 26, 26, 26, 26, 26, 26, 26, 26, 26],\n",
       "  'text': ['Why is Kylian Mbappe refusing a France squad photoshoot?',\n",
       "   'Shoto senpai has noticed me',\n",
       "   'His face was flushed and his eyes were bright.',\n",
       "   'Her cheeks flushed hot with blood.',\n",
       "   'She flushed despite herself. She was so embarassed.',\n",
       "   'She stopped and glanced up at his flushed face.',\n",
       "   'SMH… What the hell is wrong with people today',\n",
       "   'This is still the cleanest robbery getaway I’ve ever seen',\n",
       "   'Footage surfaces of August Alsina ignoring Tory Lanez and leaving him hanging.',\n",
       "   \"Your heart is broken but it's not bleeding. Weird\",\n",
       "   'I was kind of embarrassed about the money not coming in the mail like I said.']},\n",
       " {'label': [27, 27, 27, 27, 27, 27, 27, 27],\n",
       "  'text': [\"All right, I'll play your silly games.\",\n",
       "   'It was silly, but it was also fun.',\n",
       "   \"Claire thinks I'm a silly goose about it.\",\n",
       "   'Kara took the joke seriously because she was too credulous to understand the sarcasm.',\n",
       "   'They do not read body language well and sarcasm is often misunderstood.',\n",
       "   'It’s okay. I mean it’s not okay, but it’s okay.',\n",
       "   'Stop pretending like you’re hiding your partner. You don’t have one.',\n",
       "   'Need a sugar daddy that doesn’t want any sugar ']},\n",
       " {'label': [28, 28, 28, 28, 28, 28, 28, 28, 28, 28, 28],\n",
       "  'text': ['This is uncomfortable to watch',\n",
       "   'I was holding my breath ',\n",
       "   'Man even slapped her hand out the way',\n",
       "   'Nothing is more painful than being blocked by the person you are planning to block',\n",
       "   'I want a sugar daddy ',\n",
       "   'Why are you hurting a girl you begged to date',\n",
       "   \"I don't want to believe this\",\n",
       "   'Need her badly',\n",
       "   \"I'm feeling so sad right now\",\n",
       "   \"I'm not feeling very well right now.\",\n",
       "   'This is so depressing']},\n",
       " {'label': [29, 29, 29, 29, 29, 29, 29, 29, 29],\n",
       "  'text': ['This makes me so angry',\n",
       "   'This makes me sick',\n",
       "   'I could kill him right now',\n",
       "   'this is degusting to watch',\n",
       "   'stop texting mark!!',\n",
       "   'Saying what make me angry ',\n",
       "   'Should be arrested just for that kick',\n",
       "   'hate when i compliment someone and they say “no that’s you”. ',\n",
       "   'stfu and take the compliment ']},\n",
       " {'label': [30, 30, 30, 30, 30, 30, 30, 30, 30, 30],\n",
       "  'text': ['No panties, hot still?',\n",
       "   'How long do you think these buttons will last?',\n",
       "   'A picture speaks a thousand words ',\n",
       "   'Most talented persons are in Pakistan',\n",
       "   'Ladies out of 10, how many dates have you gone to, this month',\n",
       "   'Hey Averyone can i send you pic like this? ',\n",
       "   'How to unsee this?',\n",
       "   'Need a midnight partner',\n",
       "   \"I'm so excited, I married my best friend\",\n",
       "   'Can I Follow you? ']},\n",
       " {'label': [31, 31, 31, 31, 31, 31, 31, 31, 31, 31],\n",
       "  'text': ['But it is obvious to me that we can end war',\n",
       "   'In that moment of obvious joy, Alondra barely had an accent.',\n",
       "   \"It was obvious that he didn't want to talk about his natural father.\",\n",
       "   'The answer was as obvious as it was embarrassing.',\n",
       "   'It will be so obvious, even you will see it.',\n",
       "   \"More of that 'minority coalition'\",\n",
       "   \"What's your plan B if nobody marries you \",\n",
       "   'Why do men always want to apologize at night?',\n",
       "   'Besides, she knows how dumb I am.',\n",
       "   \"Don't be so dumb.\"]}]"
      ]
     },
     "execution_count": 2,
     "metadata": {},
     "output_type": "execute_result"
    }
   ],
   "source": [
    "# 26\n",
    "flushed = {\n",
    "    \"label\" : 26,\n",
    "    \"text\" : [\n",
    "        \"Why is Kylian Mbappe refusing a France squad photoshoot?\",\n",
    "        \"Shoto senpai has noticed me\",\n",
    "        \"His face was flushed and his eyes were bright.\",\n",
    "        \"Her cheeks flushed hot with blood.\",\n",
    "        \"She flushed despite herself. She was so embarassed.\",\n",
    "        \"She stopped and glanced up at his flushed face.\",\n",
    "        \"SMH… What the hell is wrong with people today\",\n",
    "        \"This is still the cleanest robbery getaway I’ve ever seen\",\n",
    "        \"Footage surfaces of August Alsina ignoring Tory Lanez and leaving him hanging.\",\n",
    "        \"Your heart is broken but it's not bleeding. Weird\",\n",
    "        \"I was kind of embarrassed about the money not coming in the mail like I said.\"\n",
    "    ]\n",
    "}\n",
    "\n",
    "\n",
    "\n",
    "# 27\n",
    "sarcasm = {\n",
    "    \"label\" : 27,\n",
    "    \"text\" : [\n",
    "        \"All right, I'll play your silly games.\",\n",
    "        \"It was silly, but it was also fun.\",\n",
    "        \"Claire thinks I'm a silly goose about it.\",\n",
    "        \"Kara took the joke seriously because she was too credulous to understand the sarcasm.\",\n",
    "        \"They do not read body language well and sarcasm is often misunderstood.\",\n",
    "        \"It’s okay. I mean it’s not okay, but it’s okay.\",\n",
    "        \"Stop pretending like you’re hiding your partner. You don’t have one.\",\n",
    "        \"Need a sugar daddy that doesn’t want any sugar \"\n",
    "    ]\n",
    "}\n",
    "\n",
    "#28\n",
    "depressed = {\n",
    "    \"label\" : 28,\n",
    "    \"text\" : [\n",
    "        \"This is uncomfortable to watch\",\n",
    "        \"I was holding my breath \",\n",
    "        \"Man even slapped her hand out the way\",\n",
    "        \"Nothing is more painful than being blocked by the person you are planning to block\",\n",
    "        \"I want a sugar daddy \",\n",
    "        \"Why are you hurting a girl you begged to date\",\n",
    "        \"I don't want to believe this\",\n",
    "        \"Need her badly\",\n",
    "        \"I'm feeling so sad right now\",\n",
    "        \"I'm not feeling very well right now.\",\n",
    "        \"This is so depressing\",\n",
    "    ]\n",
    "}\n",
    "\n",
    "#29\n",
    "angry = {\n",
    "    \"label\" : 29,\n",
    "    \"text\" : [\n",
    "        \"This makes me so angry\",\n",
    "        \"This makes me sick\",\n",
    "        \"I could kill him right now\",\n",
    "        \"this is degusting to watch\",\n",
    "        \"stop texting mark!!\",\n",
    "        \"Saying what make me angry \",\n",
    "        \"Should be arrested just for that kick\",\n",
    "        \"hate when i compliment someone and they say “no that’s you”. \",\n",
    "        \"stfu and take the compliment \",\n",
    "    ]\n",
    "}\n",
    "\n",
    "#30\n",
    "see_no_evil = {\n",
    "    \"label\" : 30,\n",
    "    \"text\" : [\n",
    "        \"No panties, hot still?\",\n",
    "        \"How long do you think these buttons will last?\",\n",
    "        \"A picture speaks a thousand words \",\n",
    "        \"Most talented persons are in Pakistan\",\n",
    "        \"Ladies out of 10, how many dates have you gone to, this month\",\n",
    "        \"Hey Averyone can i send you pic like this? \",\n",
    "        \"How to unsee this?\",\n",
    "        \"Need a midnight partner\",\n",
    "        \"I'm so excited, I married my best friend\",\n",
    "        \"Can I Follow you? \",\n",
    "    ]\n",
    "}\n",
    "\n",
    "#31\n",
    "dumb = {\n",
    "    \"label\" : 31,\n",
    "    \"text\" : [\n",
    "        \"But it is obvious to me that we can end war\",\n",
    "        \"In that moment of obvious joy, Alondra barely had an accent.\",\n",
    "        \"It was obvious that he didn't want to talk about his natural father.\",\n",
    "        \"The answer was as obvious as it was embarrassing.\",\n",
    "        \"It will be so obvious, even you will see it.\",\n",
    "        \"More of that 'minority coalition'\",\n",
    "        \"What's your plan B if nobody marries you \",\n",
    "        \"Why do men always want to apologize at night?\",\n",
    "        \"Besides, she knows how dumb I am.\",\n",
    "        \"Don't be so dumb.\",\n",
    "    ]\n",
    "}\n",
    "extra_samples = [flushed, sarcasm, depressed, angry, see_no_evil, dumb]\n",
    "extra_samples_with_list_of_labels =  [{\"label\": [x[\"label\"]]*len(x[\"text\"]), \"text\":x[\"text\"]} for x in extra_samples ]\n",
    "extra_samples_with_list_of_labels"
   ]
  },
  {
   "cell_type": "code",
   "execution_count": 20,
   "metadata": {},
   "outputs": [],
   "source": [
    "import pandas as pd\n",
    "df_train = full_dataset[\"train\"].to_pandas()\n",
    "df_extra_samples = [pd.DataFrame(x) for x in extra_samples_with_list_of_labels ]"
   ]
  },
  {
   "cell_type": "code",
   "execution_count": 21,
   "metadata": {},
   "outputs": [
    {
     "data": {
      "text/plain": [
       "19    450\n",
       "6     446\n",
       "0     441\n",
       "18    440\n",
       "15    440\n",
       "16    439\n",
       "4     438\n",
       "17    436\n",
       "7     435\n",
       "11    432\n",
       "8     432\n",
       "9     432\n",
       "2     432\n",
       "5     432\n",
       "14    431\n",
       "1     430\n",
       "12    428\n",
       "10    426\n",
       "13    426\n",
       "3     424\n",
       "24    388\n",
       "25    386\n",
       "23    384\n",
       "21    241\n",
       "20    228\n",
       "22    214\n",
       "31     29\n",
       "28     15\n",
       "30     12\n",
       "27     10\n",
       "29     10\n",
       "26      9\n",
       "Name: label, dtype: int64"
      ]
     },
     "execution_count": 21,
     "metadata": {},
     "output_type": "execute_result"
    }
   ],
   "source": [
    "df_train.label.value_counts()"
   ]
  },
  {
   "cell_type": "code",
   "execution_count": 22,
   "metadata": {},
   "outputs": [
    {
     "data": {
      "text/plain": [
       "19    450\n",
       "6     446\n",
       "0     441\n",
       "18    440\n",
       "15    440\n",
       "16    439\n",
       "4     438\n",
       "17    436\n",
       "7     435\n",
       "11    432\n",
       "8     432\n",
       "9     432\n",
       "2     432\n",
       "5     432\n",
       "14    431\n",
       "1     430\n",
       "12    428\n",
       "10    426\n",
       "13    426\n",
       "3     424\n",
       "24    388\n",
       "25    386\n",
       "23    384\n",
       "21    241\n",
       "20    228\n",
       "22    214\n",
       "31     39\n",
       "28     26\n",
       "30     22\n",
       "26     20\n",
       "29     19\n",
       "27     18\n",
       "Name: label, dtype: int64"
      ]
     },
     "execution_count": 22,
     "metadata": {},
     "output_type": "execute_result"
    }
   ],
   "source": [
    "df_train_with_samples = pd.concat([df_train] + df_extra_samples)\n",
    "df_train_with_samples.label.value_counts()"
   ]
  },
  {
   "cell_type": "markdown",
   "metadata": {
    "pycharm": {
     "name": "#%% md\n"
    }
   },
   "source": [
    "## 6. Push to Huggingface Hub."
   ]
  },
  {
   "cell_type": "code",
   "execution_count": 23,
   "metadata": {
    "pycharm": {
     "name": "#%%\n"
    }
   },
   "outputs": [
    {
     "name": "stderr",
     "output_type": "stream",
     "text": [
      "Pushing split train to the Hub.\n"
     ]
    },
    {
     "data": {
      "application/json": {
       "ascii": false,
       "bar_format": null,
       "colour": null,
       "elapsed": 0.016967058181762695,
       "initial": 0,
       "n": 0,
       "ncols": null,
       "nrows": null,
       "postfix": null,
       "prefix": "Pushing dataset shards to the dataset hub",
       "rate": null,
       "total": 1,
       "unit": "it",
       "unit_divisor": 1000,
       "unit_scale": false
      },
      "application/vnd.jupyter.widget-view+json": {
       "model_id": "2274dac8dc5a462587c063e3511b5d67",
       "version_major": 2,
       "version_minor": 0
      },
      "text/plain": [
       "Pushing dataset shards to the dataset hub:   0%|          | 0/1 [00:00<?, ?it/s]"
      ]
     },
     "metadata": {},
     "output_type": "display_data"
    },
    {
     "name": "stderr",
     "output_type": "stream",
     "text": [
      "/opt/conda/lib/python3.8/site-packages/huggingface_hub/hf_api.py:2165: FutureWarning: `identical_ok` has no effect and is deprecated. It will be removed in 0.11.0.\n",
      "  warnings.warn(\n"
     ]
    },
    {
     "data": {
      "application/json": {
       "ascii": false,
       "bar_format": null,
       "colour": null,
       "elapsed": 0.013922929763793945,
       "initial": 0,
       "n": 0,
       "ncols": null,
       "nrows": null,
       "postfix": null,
       "prefix": "Deleting unused files from dataset repository",
       "rate": null,
       "total": 1,
       "unit": "it",
       "unit_divisor": 1000,
       "unit_scale": false
      },
      "application/vnd.jupyter.widget-view+json": {
       "model_id": "eaa2d012182047e5a9fcd12a949cf6e6",
       "version_major": 2,
       "version_minor": 0
      },
      "text/plain": [
       "Deleting unused files from dataset repository:   0%|          | 0/1 [00:00<?, ?it/s]"
      ]
     },
     "metadata": {},
     "output_type": "display_data"
    },
    {
     "name": "stderr",
     "output_type": "stream",
     "text": [
      "Pushing split test to the Hub.\n"
     ]
    },
    {
     "data": {
      "application/json": {
       "ascii": false,
       "bar_format": null,
       "colour": null,
       "elapsed": 0.018851280212402344,
       "initial": 0,
       "n": 0,
       "ncols": null,
       "nrows": null,
       "postfix": null,
       "prefix": "Pushing dataset shards to the dataset hub",
       "rate": null,
       "total": 1,
       "unit": "it",
       "unit_divisor": 1000,
       "unit_scale": false
      },
      "application/vnd.jupyter.widget-view+json": {
       "model_id": "b1996ceae258415aa3bb1ae90e93bdca",
       "version_major": 2,
       "version_minor": 0
      },
      "text/plain": [
       "Pushing dataset shards to the dataset hub:   0%|          | 0/1 [00:00<?, ?it/s]"
      ]
     },
     "metadata": {},
     "output_type": "display_data"
    },
    {
     "data": {
      "application/json": {
       "ascii": false,
       "bar_format": null,
       "colour": null,
       "elapsed": 0.016762971878051758,
       "initial": 0,
       "n": 0,
       "ncols": null,
       "nrows": null,
       "postfix": null,
       "prefix": "Deleting unused files from dataset repository",
       "rate": null,
       "total": 1,
       "unit": "it",
       "unit_divisor": 1000,
       "unit_scale": false
      },
      "application/vnd.jupyter.widget-view+json": {
       "model_id": "b230ba767ec644a1a1b11896b9e61d3b",
       "version_major": 2,
       "version_minor": 0
      },
      "text/plain": [
       "Deleting unused files from dataset repository:   0%|          | 0/1 [00:00<?, ?it/s]"
      ]
     },
     "metadata": {},
     "output_type": "display_data"
    },
    {
     "name": "stderr",
     "output_type": "stream",
     "text": [
      "Pushing split validation to the Hub.\n"
     ]
    },
    {
     "data": {
      "application/json": {
       "ascii": false,
       "bar_format": null,
       "colour": null,
       "elapsed": 0.014761924743652344,
       "initial": 0,
       "n": 0,
       "ncols": null,
       "nrows": null,
       "postfix": null,
       "prefix": "Pushing dataset shards to the dataset hub",
       "rate": null,
       "total": 1,
       "unit": "it",
       "unit_divisor": 1000,
       "unit_scale": false
      },
      "application/vnd.jupyter.widget-view+json": {
       "model_id": "60cd633a5107416480b35c61520365f2",
       "version_major": 2,
       "version_minor": 0
      },
      "text/plain": [
       "Pushing dataset shards to the dataset hub:   0%|          | 0/1 [00:00<?, ?it/s]"
      ]
     },
     "metadata": {},
     "output_type": "display_data"
    },
    {
     "data": {
      "application/json": {
       "ascii": false,
       "bar_format": null,
       "colour": null,
       "elapsed": 0.013548135757446289,
       "initial": 0,
       "n": 0,
       "ncols": null,
       "nrows": null,
       "postfix": null,
       "prefix": "Deleting unused files from dataset repository",
       "rate": null,
       "total": 1,
       "unit": "it",
       "unit_divisor": 1000,
       "unit_scale": false
      },
      "application/vnd.jupyter.widget-view+json": {
       "model_id": "192d4b150f7441f7b1fd3ff749bcd297",
       "version_major": 2,
       "version_minor": 0
      },
      "text/plain": [
       "Deleting unused files from dataset repository:   0%|          | 0/1 [00:00<?, ?it/s]"
      ]
     },
     "metadata": {},
     "output_type": "display_data"
    }
   ],
   "source": [
    "full_dataset.push_to_hub(\"vincentclaes/emoji-predictor\")"
   ]
  },
  {
   "cell_type": "code",
   "execution_count": null,
   "metadata": {},
   "outputs": [],
   "source": []
  }
 ],
 "metadata": {
  "instance_type": "ml.g4dn.xlarge",
  "kernelspec": {
   "display_name": "Python 3 (PyTorch 1.10 Python 3.8 GPU Optimized)",
   "language": "python",
   "name": "python3__SAGEMAKER_INTERNAL__arn:aws:sagemaker:eu-west-1:470317259841:image/pytorch-1.10-gpu-py38"
  },
  "language_info": {
   "codemirror_mode": {
    "name": "ipython",
    "version": 3
   },
   "file_extension": ".py",
   "mimetype": "text/x-python",
   "name": "python",
   "nbconvert_exporter": "python",
   "pygments_lexer": "ipython3",
   "version": "3.8.10"
  }
 },
 "nbformat": 4,
 "nbformat_minor": 5
}
